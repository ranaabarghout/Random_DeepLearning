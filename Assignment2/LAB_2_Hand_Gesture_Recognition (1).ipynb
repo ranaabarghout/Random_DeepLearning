{
  "cells": [
    {
      "cell_type": "markdown",
      "metadata": {
        "id": "X6WDvajSqIDs"
      },
      "source": [
        "# Lab 2: Hand Gesture Recognition\n",
        "\n",
        "This lab is based on an assignment developed by Prof. Lisa Zhang.\n",
        "\n",
        "This lab will be completed in two parts. In Part A you will gain experience gathering your own data set (specifically images of hand gestures), and understand the challenges involved in the data cleaning process. In Part B you will train a convolutional neural network to make classifications on different hand gestures. By the end of the lab, you should be able to:\n",
        "\n",
        "1. Generate and preprocess your own data\n",
        "2. Load and split data for training, validation and testing\n",
        "3. Train a Convolutional Neural Network\n",
        "4. Apply transfer learning to improve your model\n",
        "\n",
        "Note that for this lab we will not be providing you with any starter code. You should be able to take the code used in previous labs, tutorials and lectures and modify it accordingly to complete the tasks outlined below.\n",
        "\n",
        "### What to submit\n",
        "\n",
        "**Submission for Part A:**  \n",
        "Submit a zip file containing your images. Three images each of American Sign Language gestures for letters A - I (total of 27 images). You will be required to clean the images before submitting them. Details are provided under Part A of the handout.\n",
        "\n",
        "Individual image file names should follow the convention of student-number_Alphabet_file-number.jpg\n",
        "(e.g. 100343434_A_1.jpg).\n",
        "\n",
        "\n",
        "**Submission for Part B:**  \n",
        "Submit an HTML file containing all your code, outputs, and write-up\n",
        "from parts A and B. You can produce a HTML file directly from Google Colab. The Colab instructions are provided at the end of this document.\n",
        "\n",
        "**Do not submit any other files produced by your code.**\n",
        "\n",
        "Include a link to your colab file in your submission.\n",
        "\n",
        "Please use Google Colab to complete this assignment. If you want to use Jupyter Notebook, please complete the assignment and upload your Jupyter Notebook file to Google Colab for submission. "
      ]
    },
    {
      "cell_type": "markdown",
      "metadata": {
        "id": "LfiFE_WOqIDu"
      },
      "source": [
        "## Colab Link\n",
        "\n",
        "Include a link to your colab file here\n",
        "\n",
        "Colab Link: "
      ]
    },
    {
      "cell_type": "markdown",
      "metadata": {
        "id": "kvTXpH_kqIDy"
      },
      "source": [
        "# Part A. Data Collection [10 pt]\n",
        "\n",
        "So far, we have worked with data sets that have been collected, cleaned, and curated by machine learning\n",
        "researchers and practitioners. Datasets like MNIST and CIFAR are often used as toy examples, both by\n",
        "students and by researchers testing new machine learning models.\n",
        "\n",
        "In the real world, getting a clean data set is never that easy. More than half the work in applying machine\n",
        "learning is finding, gathering, cleaning, and formatting your data set.\n",
        "\n",
        "The purpose of this lab is to help you gain experience gathering your own data set, and understand the\n",
        "challenges involved in the data cleaning process.\n",
        "\n",
        "### American Sign Language\n",
        "\n",
        "American Sign Language (ASL) is a complete, complex language that employs signs made by moving the\n",
        "hands combined with facial expressions and postures of the body. It is the primary language of many\n",
        "North Americans who are deaf and is one of several communication options used by people who are deaf or\n",
        "hard-of-hearing.\n",
        "\n",
        "The hand gestures representing English alphabet are shown below. This lab focuses on classifying a subset\n",
        "of these hand gesture images using convolutional neural networks. Specifically, given an image of a hand\n",
        "showing one of the letters A-I, we want to detect which letter is being represented.\n",
        "\n",
        "![alt text](https://www.disabled-world.com/pics/1/asl-alphabet.jpg)\n",
        "\n",
        "\n",
        "### Generating Data\n",
        "We will produce the images required for this lab by ourselves. Each student will collect, clean and submit\n",
        "three images each of Americal Sign Language gestures for letters A - I (total of 27 images)\n",
        "Steps involved in data collection\n",
        "\n",
        "1. Familiarize yourself with American Sign Language gestures for letters from A - I (9 letters).\n",
        "2. Take three pictures at slightly different orientation for each letter gesture using your\n",
        "mobile phone.\n",
        " - Ensure adequate lighting while you are capturing the images.\n",
        " - Use a white wall as your background.\n",
        " - Use your right hand to create gestures (for consistency).\n",
        " - Keep your right hand fairly apart from your body and any other obstructions.\n",
        " - Avoid having shadows on parts of your hand.\n",
        "3. Transfer the images to your laptop for cleaning.\n",
        "\n",
        "### Cleaning Data\n",
        "To simplify the machine learning the task, we will standardize the training images. We will make sure that\n",
        "all our images are of the same size (224 x 224 pixels RGB), and have the hand in the center of the cropped\n",
        "regions.\n",
        "\n",
        "You may use the following applications to crop and resize your images:\n",
        "\n",
        "**Mac**\n",
        "- Use Preview:\n",
        "– Holding down CMD + Shift will keep a square aspect ratio while selecting the hand area.\n",
        "– Resize to 224x224 pixels.\n",
        "\n",
        "**Windows 10**\n",
        "- Use Photos app to edit and crop the image and keep the aspect ratio a square.\n",
        "- Use Paint to resize the image to the final image size of 224x224 pixels.\n",
        "\n",
        "**Linux**\n",
        "- You can use GIMP, imagemagick, or other tools of your choosing.\n",
        "You may also use online tools such as http://picresize.com\n",
        "All the above steps are illustrative only. You need not follow these steps but following these will ensure that\n",
        "you produce a good quality dataset. You will be judged based on the quality of the images alone.\n",
        "Please do not edit your photos in any other way. You should not need to change the aspect ratio of your\n",
        "image. You also should not digitally remove the background or shadows—instead, take photos with a white\n",
        "background and minimal shadows.\n",
        "\n",
        "### Accepted Images\n",
        "Images will be accepted and graded based on the criteria below\n",
        "1. The final image should be size 224x224 pixels (RGB).\n",
        "2. The file format should be a .jpg file.\n",
        "3. The hand should be approximately centered on the frame.\n",
        "4. The hand should not be obscured or cut off.\n",
        "5. The photos follows the ASL gestures posted earlier.\n",
        "6. The photos were not edited in any other way (e.g. no electronic removal of shadows or background).\n",
        "\n",
        "### Submission\n",
        "Submit a zip file containing your images. There should be a total of 27 images (3 for each category)\n",
        "1. Individual image file names should follow the convention of student-number_Alphabet_file-number.jpg\n",
        "(e.g. 100343434_A_1.jpg)\n",
        "2. Zip all the images together and name it with the following convention: last-name_student-number.zip\n",
        "(e.g. last-name_100343434.zip).\n",
        "3. Submit the zipped folder.\n",
        "We will be anonymizing and combining the images that everyone submits. We will announce when the\n",
        "combined data set will be available for download.\n",
        "\n",
        "![alt text](https://github.com/UTNeural/APS360/blob/master/Gesture%20Images.PNG?raw=true)"
      ]
    },
    {
      "cell_type": "markdown",
      "metadata": {
        "id": "bJxMgWGNqID2"
      },
      "source": [
        "# Part B. Building a CNN [40 pt]\n",
        "\n",
        "For this lab, we are not going to give you any starter code. You will be writing a convolutional neural network\n",
        "from scratch. You are welcome to use any code from previous labs, lectures and tutorials. You should also\n",
        "write your own code.\n",
        "\n",
        "You may use the PyTorch documentation freely. You might also find online tutorials helpful. However, all\n",
        "code that you submit must be your own.\n",
        "\n",
        "Make sure that your code is vectorized, and does not contain obvious inefficiencies (for example, unecessary\n",
        "for loops, or unnecessary calls to unsqueeze()). Ensure enough comments are included in the code so that\n",
        "your TA can understand what you are doing. It is your responsibility to show that you understand what you\n",
        "write.\n",
        "\n",
        "**This is much more challenging and time-consuming than the previous labs.** Make sure that you\n",
        "give yourself plenty of time by starting early."
      ]
    },
    {
      "cell_type": "markdown",
      "metadata": {
        "id": "MiDuQaAh56sT"
      },
      "source": [
        "### Part 1. Data Loading and Splitting [5 pt]\n",
        "\n",
        "Download the anonymized data provided on Quercus. Split the data into training, validation, and test sets.\n",
        "\n",
        "Note: Data splitting is not as trivial in this lab. We want our test set to closely resemble the setting in which\n",
        "our model will be used. In particular, our test set should contain hands that are never seen in training!\n",
        "\n",
        "Explain how you split the data, either by describing what you did, or by showing the code that you used.\n",
        "Justify your choice of splitting strategy. How many training, validation, and test images do you have?\n",
        "\n",
        "For loading the data, you can use plt.imread, or any other method that you choose. You may find\n",
        "torchvision.datasets.ImageFolder helpful. (see https://pytorch.org/docs/master/torchvision/datasets.html#imagefolder\n",
        ") "
      ]
    },
    {
      "cell_type": "markdown",
      "source": [
        "**The data was split to have 20% testing, 25% validation, 55% training. I ensured that all the testing dataset had the same hands so that the same hand wasn't shared across the testing and the validation/training. The remaining images were split so that the training set got 2 of the 3 images for each hand and the validation set got 1 of the images.**"
      ],
      "metadata": {
        "id": "lSnaOEDqu53a"
      }
    },
    {
      "cell_type": "code",
      "execution_count": null,
      "metadata": {
        "id": "WBrH5kBqRLa6",
        "colab": {
          "base_uri": "https://localhost:8080/"
        },
        "outputId": "c6c45e90-0317-41ab-94a6-07abe1a47353"
      },
      "outputs": [
        {
          "output_type": "stream",
          "name": "stdout",
          "text": [
            "Drive already mounted at /content/drive; to attempt to forcibly remount, call drive.mount(\"/content/drive\", force_remount=True).\n"
          ]
        }
      ],
      "source": [
        "# import numpy as np\n",
        "# import matplotlib.pyplot as plt\n",
        "# import scipy.signal as sg\n",
        "# from PIL import Image\n",
        "# import requests\n",
        "# import os \n",
        "# import torch \n",
        "# import torchvision\n",
        "# from torchvision import datasets, models, transforms\n",
        "\n",
        "# # mount our Google Drive\n",
        "# from google.colab import drive\n",
        "# drive.mount('/content/drive')\n",
        "\n",
        "# # define training and test data directories from class dataset\n",
        "# data_dir = '/content/drive/My Drive/Colab Notebooks/Lab_2_Hand_Gesture_Dataset'\n",
        "# train_dir = os.path.join(data_dir, 'Train/')\n",
        "# val_dir = os.path.join(data_dir, 'Validation/')\n",
        "# test_dir = os.path.join(data_dir, 'Test/')\n",
        "\n",
        "# # define training and test data directories from personal dataset\n",
        "# my_data_dir = '/content/drive/My Drive/Colab Notebooks/Lab_2_MyData'\n",
        "# my_train_dir = os.path.join(my_data_dir, 'Train/')\n",
        "\n",
        "\n",
        "# # classes are folders in each directory with these names\n",
        "# classes = ['A', 'B', 'C', 'D', 'E', 'F', 'G', 'H', 'I']"
      ]
    },
    {
      "cell_type": "code",
      "source": [
        "from google.colab import drive\n",
        "drive.flush_and_unmount()"
      ],
      "metadata": {
        "id": "jkhN4KwEh4_t"
      },
      "execution_count": 1,
      "outputs": []
    },
    {
      "cell_type": "code",
      "source": [
        "import numpy as np\n",
        "import matplotlib.pyplot as plt\n",
        "import scipy.signal as sg\n",
        "from PIL import Image\n",
        "import requests\n",
        "import os \n",
        "import torch \n",
        "import torchvision\n",
        "from torchvision import datasets, models, transforms\n",
        "\n",
        "# mount our Google Drive\n",
        "from google.colab import drive\n",
        "drive.mount('/content/drive')\n",
        "\n",
        "# On colab, dump to local for faster load\n",
        "!mkdir -p /train_local\n",
        "!cp -r '/content/drive/My Drive/Colab Notebooks/Lab_2_Hand_Gesture_Dataset/' /train_local/\n",
        "\n",
        "dataset_path = '/train_local/Lab_2_Hand_Gesture_Dataset/'\n",
        "train_dir = os.path.join(dataset_path, 'Train/')\n",
        "val_dir = os.path.join(dataset_path, 'Validation/')\n",
        "test_dir = os.path.join(dataset_path, 'Test/')\n",
        "\n",
        "!mkdir -p /train_local2\n",
        "!cp -r '/content/drive/My Drive/Colab Notebooks/Lab_2_MyData/' /train_local2/\n",
        "\n",
        "my_dataset_path = '/train_local2/Lab_2_MyData/'\n",
        "my_train_dir = os.path.join(my_dataset_path, 'Train/')\n"
      ],
      "metadata": {
        "id": "6tSMNaDmC6eX",
        "colab": {
          "base_uri": "https://localhost:8080/"
        },
        "outputId": "7b571fc5-cd4a-485e-ccfa-d8e20fb8f62e"
      },
      "execution_count": 1,
      "outputs": [
        {
          "output_type": "stream",
          "name": "stdout",
          "text": [
            "Mounted at /content/drive\n"
          ]
        }
      ]
    },
    {
      "cell_type": "code",
      "source": [
        "train_dir = '/train_local/Lab_2_Hand_Gesture_Dataset/Train/'\n",
        "test_dir = '/train_local/Lab_2_Hand_Gesture_Dataset/Test/'\n",
        "val_dir = '/train_local/Lab_2_Hand_Gesture_Dataset/Validation/'\n",
        "my_train_dir = '/train_local2/Lab_2_MyData/Train/'\n",
        "\n",
        "# classes are folders in each directory with these names\n",
        "classes = ['A', 'B', 'C', 'D', 'E', 'F', 'G', 'H', 'I']"
      ],
      "metadata": {
        "id": "WoJ6MBDDoaB-"
      },
      "execution_count": 2,
      "outputs": []
    },
    {
      "cell_type": "code",
      "source": [
        "# load and transform data using ImageFolder\n",
        "\n",
        "# resize all images to 224 x 224\n",
        "data_transform = transforms.Compose([transforms.RandomResizedCrop(224), \n",
        "                                      transforms.ToTensor()])\n",
        "\n",
        "train_data = datasets.ImageFolder(train_dir, transform=data_transform)\n",
        "val_data = datasets.ImageFolder(val_dir, transform=data_transform)\n",
        "test_data = datasets.ImageFolder(test_dir, transform=data_transform)\n",
        "my_train_data = datasets.ImageFolder(my_train_dir, transform=data_transform)\n",
        "\n",
        "# print out some data stats\n",
        "print('Num training images: ', len(train_data))\n",
        "print('Num validation images: ', len(val_data))\n",
        "print('Num testing images: ', len(test_data))\n",
        "print('Num of my training images: ', len(my_train_data))"
      ],
      "metadata": {
        "colab": {
          "base_uri": "https://localhost:8080/"
        },
        "id": "TYLcItAQuNIX",
        "outputId": "5220ae8f-391a-4c19-f6f6-c8d1ad68828e"
      },
      "execution_count": 8,
      "outputs": [
        {
          "output_type": "stream",
          "name": "stdout",
          "text": [
            "Num training images:  1317\n",
            "Num validation images:  604\n",
            "Num testing images:  503\n",
            "Num of my training images:  27\n"
          ]
        }
      ]
    },
    {
      "cell_type": "markdown",
      "metadata": {
        "id": "5VWX4DGY5gQE"
      },
      "source": [
        "### Part 2. Model Building and Sanity Checking [9 pt]\n",
        "\n",
        "### Part (a) Convolutional Network - 3 pt\n",
        "\n",
        "Build a convolutional neural network model that takes the (224x224 RGB) image as input, and predicts the gesture\n",
        "letter. Your model should be a subclass of nn.Module. Explain your choice of neural network architecture: how\n",
        "many layers did you choose? What types of layers did you use? Were they fully-connected or convolutional?\n",
        "What about other decisions like pooling layers, activation functions, number of channels / hidden units?"
      ]
    },
    {
      "cell_type": "code",
      "execution_count": 10,
      "metadata": {
        "id": "2dtx1z5951fS"
      },
      "outputs": [],
      "source": [
        "import torch.nn as nn\n",
        "import torch.nn.functional as F\n",
        "import torch.optim as optim #for gradient descent\n",
        "\n",
        "class ASL_Identifier1(nn.Module):\n",
        "      def __init__(self):\n",
        "          super(ASL_Identifier1, self).__init__()\n",
        "          self.conv1 = nn.Conv2d(3, 5, 5) #in_channels, out_chanels, kernel_size\n",
        "          self.pool1 = nn.MaxPool2d(4, 4) #kernel_size, stride \n",
        "          self.conv2 = nn.Conv2d(5, 5, 5) #in_channels, out_chanels, kernel_size\n",
        "          self.pool2 = nn.MaxPool2d(3,3)\n",
        "          self.fc1 = nn.Linear(1445, 32)\n",
        "          self.fc2 = nn.Linear(32, 9)\n",
        "\n",
        "      def forward(self, x):\n",
        "          x = self.pool1(F.leaky_relu(self.conv1(x)))\n",
        "          x = self.pool2(F.leaky_relu(self.conv2(x)))\n",
        "          x = x.view(-1, 1445)\n",
        "          x = F.relu(self.fc1(x))\n",
        "          x = self.fc2(x)\n",
        "          return x"
      ]
    },
    {
      "cell_type": "code",
      "source": [
        "import torch.nn as nn\n",
        "import torch.nn.functional as F\n",
        "import torch.optim as optim #for gradient descent\n",
        "\n",
        "class ASL_Identifier2(nn.Module):\n",
        "      def __init__(self):\n",
        "          super(ASL_Identifier2, self).__init__()\n",
        "          self.conv1 = nn.Conv2d(3, 5, 9) #in_channels, out_chanels, kernel_size\n",
        "          self.pool1 = nn.MaxPool2d(6, 6) #kernel_size, stride \n",
        "          self.conv2 = nn.Conv2d(5, 10, 9) #in_channels, out_chanels, kernel_size\n",
        "          self.pool2 = nn.MaxPool2d(7,7)\n",
        "          self.fc1 = nn.Linear(160, 32)\n",
        "          self.fc2 = nn.Linear(32, 9)\n",
        "\n",
        "      def forward(self, x):\n",
        "          x = self.pool1(F.leaky_relu(self.conv1(x)))\n",
        "          x = self.pool2(F.leaky_relu(self.conv2(x)))\n",
        "          x = x.view(-1, 160)\n",
        "          x = F.relu(self.fc1(x))\n",
        "          x = self.fc2(x)\n",
        "          return x"
      ],
      "metadata": {
        "id": "0KOXTNV0nD9H"
      },
      "execution_count": 11,
      "outputs": []
    },
    {
      "cell_type": "code",
      "source": [
        "import torch.nn as nn\n",
        "import torch.nn.functional as F\n",
        "import torch.optim as optim #for gradient descent\n",
        "\n",
        "class ASL_Identifier3(nn.Module):\n",
        "      def __init__(self):\n",
        "          super(ASL_Identifier3, self).__init__()\n",
        "          self.conv1 = nn.Conv2d(3, 5, 3) #in_channels, out_chanels, kernel_size\n",
        "          self.pool1 = nn.MaxPool2d(10, 10) #kernel_size, stride \n",
        "          self.fc1 = nn.Linear(2420, 224)\n",
        "          self.fc2 = nn.Linear(224, 9)\n",
        "\n",
        "      def forward(self, x):\n",
        "          x = self.pool1(F.leaky_relu(self.conv1(x)))\n",
        "          x = x.view(-1, 2420)\n",
        "          x = F.relu(self.fc1(x))\n",
        "          x = self.fc2(x)\n",
        "          return x"
      ],
      "metadata": {
        "id": "EMjj6blb9OC1"
      },
      "execution_count": 12,
      "outputs": []
    },
    {
      "cell_type": "code",
      "source": [
        "class MNISTClassifier(nn.Module):\n",
        "      def __init__(self):\n",
        "          super(MNISTClassifier, self).__init__()\n",
        "          self.conv1 = nn.Conv2d(3, 5, 5) #in_channels, out_chanels, kernel_size\n",
        "          self.pool = nn.MaxPool2d(2, 2) #kernel_size, stride \n",
        "          self.conv2 = nn.Conv2d(5, 10, 5) #in_channels, out_chanels, kernel_size\n",
        "          self.fc1 = nn.Linear(28090, 2204)\n",
        "          self.fc2 = nn.Linear(2204, 32)\n",
        "          self.fc3 = nn.Linear(32, 9)\n",
        "\n",
        "      def forward(self, x):\n",
        "          x = self.pool(F.leaky_relu(self.conv1(x)))\n",
        "          x = self.pool(F.leaky_relu(self.conv2(x)))\n",
        "          x = x.view(-1, 28090)\n",
        "          x = F.relu(self.fc1(x))\n",
        "          x = F.relu(self.fc2(x))\n",
        "          x = self.fc3(x)\n",
        "          return x"
      ],
      "metadata": {
        "id": "sNJXrbh0EfqB"
      },
      "execution_count": 13,
      "outputs": []
    },
    {
      "cell_type": "markdown",
      "metadata": {
        "id": "XeGvelvb515e"
      },
      "source": [
        "### Part (b) Training Code - 3 pt\n",
        "\n",
        "Write code that trains your neural network given some training data. Your training code should make it easy\n",
        "to tweak the usual hyperparameters, like batch size, learning rate, and the model object itself. Make sure\n",
        "that you are checkpointing your models from time to time (the frequency is up to you). Explain your choice\n",
        "of loss function and optimizer."
      ]
    },
    {
      "cell_type": "code",
      "source": [
        "def get_accuracy(model, train):\n",
        "    if train==0:\n",
        "        data = train_data\n",
        "    else:\n",
        "      if train==1:\n",
        "        data = val_data\n",
        "      else:\n",
        "        data = my_train_data\n",
        "\n",
        "    correct = 0\n",
        "    total = 0\n",
        "    for imgs, labels in torch.utils.data.DataLoader(data, batch_size=64):\n",
        "        \n",
        "        \n",
        "        #############################################\n",
        "        #To Enable GPU Usage\n",
        "        if use_cuda and torch.cuda.is_available():\n",
        "          imgs = imgs.cuda()\n",
        "          labels = labels.cuda()\n",
        "        #############################################\n",
        "        \n",
        "        \n",
        "        output = model(imgs)\n",
        "        \n",
        "        #select index with maximum prediction score\n",
        "        pred = output.max(1, keepdim=True)[1]\n",
        "        correct += pred.eq(labels.view_as(pred)).sum().item()\n",
        "        total += imgs.shape[0]\n",
        "    return correct / total\n"
      ],
      "metadata": {
        "id": "1xMY5bhSYMxX"
      },
      "execution_count": 14,
      "outputs": []
    },
    {
      "cell_type": "code",
      "source": [
        "def train(model, data, train_type, batch_size=64, num_epochs=1):\n",
        "    train_loader = torch.utils.data.DataLoader(data, batch_size=batch_size)\n",
        "    criterion = nn.CrossEntropyLoss()\n",
        "    optimizer = optim.Adam(model.parameters(), lr=0.1, weight_decay=1e-5)\n",
        "    # optimizer = optim.SGD(model.parameters(), lr=0.001, momentum=0.9)\n",
        "\n",
        "    iters, losses, train_acc, val_acc = [], [], [], []\n",
        "\n",
        "    # training\n",
        "    n = 0 # the number of iterations\n",
        "    for epoch in range(num_epochs):\n",
        "        for imgs, labels in iter(train_loader):\n",
        "          \n",
        "          \n",
        "            #############################################\n",
        "            #To Enable GPU Usage\n",
        "            if use_cuda and torch.cuda.is_available():\n",
        "              imgs = imgs.cuda()\n",
        "              labels = labels.cuda()\n",
        "            #############################################\n",
        "            \n",
        "              \n",
        "            out = model(imgs)             # forward pass\n",
        "            loss = criterion(out, labels) # compute the total loss\n",
        "            loss.backward()               # backward pass (compute parameter updates)\n",
        "            optimizer.step()              # make the updates for each parameter\n",
        "            optimizer.zero_grad()         # a clean up step for PyTorch\n",
        "\n",
        "            # save the current training information\n",
        "            iters.append(n)\n",
        "            losses.append(float(loss)/batch_size)             # compute *average* loss\n",
        "            if train_type==0:\n",
        "              train_acc.append(get_accuracy(model, train=train_type)) # compute training accuracy \n",
        "              val_acc.append(get_accuracy(model, train=train_type+1))  # compute validation accuracy\n",
        "            else:\n",
        "              train_acc.append(get_accuracy(model,train==train_type))  # compute validation accuracy\n",
        "            n += 1\n",
        "\n",
        "    # plotting\n",
        "    plt.title(\"Training Curve\")\n",
        "    plt.plot(iters, losses, label=\"Train\")\n",
        "    plt.xlabel(\"Iterations\")\n",
        "    plt.ylabel(\"Loss\")\n",
        "    plt.show()\n",
        "\n",
        "    if train_type==0:\n",
        "      plt.title(\"Training Curve\")\n",
        "      plt.plot(iters, train_acc, label=\"Train\")\n",
        "      plt.plot(iters, val_acc, label=\"Validation\")\n",
        "      plt.xlabel(\"Iterations\")\n",
        "      plt.ylabel(\"Training Accuracy\")\n",
        "      plt.legend(loc='best')\n",
        "      plt.show()\n",
        "\n",
        "      print(\"Final Training Accuracy: {}\".format(train_acc[-1]))\n",
        "      print(\"Final Validation Accuracy: {}\".format(val_acc[-1]))\n",
        "    else:\n",
        "      plt.title(\"Training Curve\")\n",
        "      plt.plot(iters, train_acc, label=\"Train\")\n",
        "      plt.xlabel(\"Iterations\")\n",
        "      plt.ylabel(\"Training Accuracy\")\n",
        "      plt.legend(loc='best')\n",
        "      plt.show()\n",
        "    "
      ],
      "metadata": {
        "id": "8SpkKphvYncd"
      },
      "execution_count": 16,
      "outputs": []
    },
    {
      "cell_type": "markdown",
      "metadata": {
        "id": "bk1RNgAj54rZ"
      },
      "source": [
        "### Part (c) “Overfit” to a Small Dataset - 3 pt\n",
        "\n",
        "One way to sanity check our neural network model and training code is to check whether the model is capable\n",
        "of “overfitting” or “memorizing” a small dataset. A properly constructed CNN with correct training code\n",
        "should be able to memorize the answers to a small number of images quickly.\n",
        "\n",
        "Construct a small dataset (e.g. just the images that you have collected). Then show that your model and\n",
        "training code is capable of memorizing the labels of this small data set.\n",
        "\n",
        "With a large batch size (e.g. the entire small dataset) and learning rate that is not too high, You should be\n",
        "able to obtain a 100% training accuracy on that small dataset relatively quickly (within 200 iterations)."
      ]
    },
    {
      "cell_type": "code",
      "execution_count": null,
      "metadata": {
        "id": "lXYRBhQO6d3u",
        "colab": {
          "base_uri": "https://localhost:8080/"
        },
        "outputId": "03963bf2-c36f-4e90-b1a8-ab605a4a3392"
      },
      "outputs": [
        {
          "output_type": "stream",
          "name": "stdout",
          "text": [
            "CUDA is available!  Training on GPU ...\n"
          ]
        }
      ],
      "source": [
        "use_cuda = True\n",
        "\n",
        "model = ASL_Identifier1()\n",
        "\n",
        "if use_cuda and torch.cuda.is_available():\n",
        "  model.cuda()\n",
        "  print('CUDA is available!  Training on GPU ...')\n",
        "else:\n",
        "  print('CUDA is not available.  Training on CPU ...')\n",
        "  \n",
        "#proper model\n",
        "train(model, my_train_data, train_type=2, batch_size=64, num_epochs=200)"
      ]
    },
    {
      "cell_type": "code",
      "source": [
        "use_cuda = True\n",
        "\n",
        "model = ASL_Identifier2()\n",
        "\n",
        "if use_cuda and torch.cuda.is_available():\n",
        "  model.cuda()\n",
        "  print('CUDA is available!  Training on GPU ...')\n",
        "else:\n",
        "  print('CUDA is not available.  Training on CPU ...')\n",
        "  \n",
        "#proper model\n",
        "train(model, my_train_data, train_type=2, batch_size=64, num_epochs=200)"
      ],
      "metadata": {
        "colab": {
          "base_uri": "https://localhost:8080/",
          "height": 590
        },
        "id": "orDbS9RijYqn",
        "outputId": "c57fe088-caec-40d5-f0b9-66a93b340792"
      },
      "execution_count": 24,
      "outputs": [
        {
          "output_type": "stream",
          "name": "stdout",
          "text": [
            "CUDA is available!  Training on GPU ...\n"
          ]
        },
        {
          "output_type": "display_data",
          "data": {
            "image/png": "[encoded data removed]",
            "text/plain": [
              "<Figure size 432x288 with 1 Axes>"
            ]
          },
          "metadata": {
            "needs_background": "light"
          }
        },
        {
          "output_type": "display_data",
          "data": {
            "image/png": "[encoded data removed]",
            "text/plain": [
              "<Figure size 432x288 with 1 Axes>"
            ]
          },
          "metadata": {
            "needs_background": "light"
          }
        }
      ]
    },
    {
      "cell_type": "code",
      "source": [
        "use_cuda = True\n",
        "\n",
        "model = ASL_Identifier3()\n",
        "\n",
        "if use_cuda and torch.cuda.is_available():\n",
        "  model.cuda()\n",
        "  print('CUDA is available!  Training on GPU ...')\n",
        "else:\n",
        "  print('CUDA is not available.  Training on CPU ...')\n",
        "  \n",
        "#proper model\n",
        "train(model, my_train_data, train_type=2, batch_size=64, num_epochs=200)"
      ],
      "metadata": {
        "colab": {
          "base_uri": "https://localhost:8080/",
          "height": 590
        },
        "id": "1t_yn78X-3R8",
        "outputId": "02d7a48c-6f02-44e3-e127-7cd59249acaa"
      },
      "execution_count": null,
      "outputs": [
        {
          "output_type": "stream",
          "name": "stdout",
          "text": [
            "CUDA is available!  Training on GPU ...\n"
          ]
        },
        {
          "output_type": "display_data",
          "data": {
            "image/png": "[encoded data removed]",
            "text/plain": [
              "<Figure size 432x288 with 1 Axes>"
            ]
          },
          "metadata": {
            "needs_background": "light"
          }
        },
        {
          "output_type": "display_data",
          "data": {
            "image/png": "[encoded data removed]",
            "text/plain": [
              "<Figure size 432x288 with 1 Axes>"
            ]
          },
          "metadata": {
            "needs_background": "light"
          }
        }
      ]
    },
    {
      "cell_type": "code",
      "source": [
        "use_cuda = True\n",
        "\n",
        "model = MNISTClassifier()\n",
        "\n",
        "if use_cuda and torch.cuda.is_available():\n",
        "  model.cuda()\n",
        "  print('CUDA is available!  Training on GPU ...')\n",
        "else:\n",
        "  print('CUDA is not available.  Training on CPU ...')\n",
        "  \n",
        "#proper model\n",
        "train(model, my_train_data, train_type=2, batch_size=64, num_epochs=200)"
      ],
      "metadata": {
        "colab": {
          "base_uri": "https://localhost:8080/",
          "height": 590
        },
        "id": "2rWgVR9EGaBJ",
        "outputId": "5295ffac-55c9-4e25-bfb9-6d0b304a7e0b"
      },
      "execution_count": null,
      "outputs": [
        {
          "output_type": "stream",
          "name": "stdout",
          "text": [
            "CUDA is available!  Training on GPU ...\n"
          ]
        },
        {
          "output_type": "display_data",
          "data": {
            "image/png": "[encoded data removed]",
            "text/plain": [
              "<Figure size 432x288 with 1 Axes>"
            ]
          },
          "metadata": {
            "needs_background": "light"
          }
        },
        {
          "output_type": "display_data",
          "data": {
            "image/png": "[encoded data removed]",
            "text/plain": [
              "<Figure size 432x288 with 1 Axes>"
            ]
          },
          "metadata": {
            "needs_background": "light"
          }
        }
      ]
    },
    {
      "cell_type": "markdown",
      "metadata": {
        "id": "nvDLw-Vz6eVS"
      },
      "source": [
        "### Part 3. Hyperparameter Search [8 pt]\n",
        "\n",
        "### Part (a) - 2 pt\n",
        "\n",
        "List 3 hyperparameters that you think are most worth tuning. Choose at least one hyperparameter related to\n",
        "the model architecture."
      ]
    },
    {
      "cell_type": "markdown",
      "source": [
        "1.   Kernel and pooling filter sizes\n",
        "2.   Epoch number\n",
        "3.   Batch size\n",
        "\n",
        "\n",
        "\n",
        "\n"
      ],
      "metadata": {
        "id": "HXRQbgMqR_Qy"
      }
    },
    {
      "cell_type": "markdown",
      "metadata": {
        "id": "zeD6EzPB6kSW"
      },
      "source": [
        "### Part (b) - 2 pt\n",
        "\n",
        "Tune the hyperparameters you listed in Part (a), trying as many values as you need to until you feel satisfied\n",
        "that you are getting a good model. Plot the training curve of at least 4 different hyperparameter settings."
      ]
    },
    {
      "cell_type": "code",
      "execution_count": null,
      "metadata": {
        "id": "UkvdR-cB6nzm"
      },
      "outputs": [],
      "source": [
        "use_cuda = True\n",
        "\n",
        "model = ASL_Identifier1()\n",
        "\n",
        "if use_cuda and torch.cuda.is_available():\n",
        "  model.cuda()\n",
        "  print('CUDA is available!  Training on GPU ...')\n",
        "else:\n",
        "  print('CUDA is not available.  Training on CPU ...')\n",
        "  \n",
        "#proper model\n",
        "train(model, train_data, train_type=0, batch_size=64, num_epochs=50)"
      ]
    },
    {
      "cell_type": "code",
      "source": [
        "use_cuda = True\n",
        "\n",
        "model = ASL_Identifier2()\n",
        "\n",
        "if use_cuda and torch.cuda.is_available():\n",
        "  model.cuda()\n",
        "  print('CUDA is available!  Training on GPU ...')\n",
        "else:\n",
        "  print('CUDA is not available.  Training on CPU ...')\n",
        "  \n",
        "#proper model\n",
        "train(model, train_data, train_type=0, batch_size=64, num_epochs=50)"
      ],
      "metadata": {
        "id": "XgvI4uo8XYME"
      },
      "execution_count": null,
      "outputs": []
    },
    {
      "cell_type": "code",
      "source": [
        "use_cuda = True\n",
        "\n",
        "model = ASL_Identifier1()\n",
        "\n",
        "if use_cuda and torch.cuda.is_available():\n",
        "  model.cuda()\n",
        "  print('CUDA is available!  Training on GPU ...')\n",
        "else:\n",
        "  print('CUDA is not available.  Training on CPU ...')\n",
        "  \n",
        "#proper model\n",
        "train(model, train_data, train_type=0, batch_size=32, num_epochs=100)"
      ],
      "metadata": {
        "id": "_UAGpTlPXYz1"
      },
      "execution_count": null,
      "outputs": []
    },
    {
      "cell_type": "code",
      "source": [
        "use_cuda = True\n",
        "\n",
        "model = ASL_Identifier1()\n",
        "\n",
        "if use_cuda and torch.cuda.is_available():\n",
        "  model.cuda()\n",
        "  print('CUDA is available!  Training on GPU ...')\n",
        "else:\n",
        "  print('CUDA is not available.  Training on CPU ...')\n",
        "  \n",
        "#proper model\n",
        "train(model, train_data, train_type=0, batch_size=248, num_epochs=50)"
      ],
      "metadata": {
        "id": "kb_aDmDtXZf4"
      },
      "execution_count": null,
      "outputs": []
    },
    {
      "cell_type": "markdown",
      "metadata": {
        "id": "H93iN5_l60BO"
      },
      "source": [
        "### Part (c) - 2 pt\n",
        "Choose the best model out of all the ones that you have trained. Justify your choice."
      ]
    },
    {
      "cell_type": "code",
      "execution_count": null,
      "metadata": {
        "id": "kIhcN7IG6zRO"
      },
      "outputs": [],
      "source": [
        "def test_net(net, batch_size=64, learning_rate=0.01, num_epochs=30):\n",
        "    ########################################################################\n",
        "    # Test a classifier on cars vs trucks\n",
        "    target_classes = [\"car\", \"truck\"]\n",
        "    ########################################################################\n",
        "    # Fixed PyTorch random seed for reproducible result\n",
        "    torch.manual_seed(1000)\n",
        "    ########################################################################\n",
        "    # Obtain the PyTorch data loader objects to load batches of the datasets\n",
        "    train_loader, val_loader, test_loader, classes = get_data_loader(\n",
        "            target_classes, batch_size)\n",
        "    ########################################################################\n",
        "    # Define the Loss function and optimizer\n",
        "    # The loss function will be Binary Cross Entropy (BCE). In this case we\n",
        "    # will use the BCEWithLogitsLoss which takes unnormalized output from\n",
        "    # the neural network and scalar label.\n",
        "    # Optimizer will be SGD with Momentum.\n",
        "    criterion = nn.BCEWithLogitsLoss()\n",
        "    optimizer = optim.SGD(net.parameters(), lr=learning_rate, momentum=0.9)\n",
        "    ########################################################################\n",
        "    # Set up some numpy arrays to store the test loss/accuracy\n",
        "    test_err = np.zeros(num_epochs)\n",
        "    test_loss = np.zeros(num_epochs)\n",
        "    # val_err = np.zeros(num_epochs)\n",
        "    # val_loss = np.zeros(num_epochs)\n",
        "    ########################################################################\n",
        "    # Test the network\n",
        "    # Loop over the data iterator and sample a new batch of testing data\n",
        "    # Get the output from the network\n",
        "    start_time = time.time()\n",
        "    for epoch in range(num_epochs):  # loop over the dataset multiple times\n",
        "        total_test_loss = 0.0\n",
        "        total_test_err = 0.0\n",
        "        total_epoch = 0\n",
        "        for i, data in enumerate(test_loader, 0):\n",
        "            # Get the inputs\n",
        "            inputs, labels = data\n",
        "            labels = normalize_label(labels) # Convert labels to 0/1\n",
        "            # # Zero the parameter gradients\n",
        "            # optimizer.zero_grad()\n",
        "            # Forward pass, backward pass, and optimize\n",
        "            outputs = net(inputs)\n",
        "            loss = criterion(outputs, labels.float())\n",
        "            corr = (outputs > 0.0).squeeze().long() != labels\n",
        "            total_test_err += int(corr.sum())\n",
        "            total_test_loss += loss.item()\n",
        "            total_epoch += len(labels)\n",
        "        test_err[epoch] = float(total_test_err) / total_epoch\n",
        "        test_loss[epoch] = float(total_test_loss) / (i+1)\n",
        "        print((\"Epoch {}: Test err: {}, Test loss: {} |\").format(\n",
        "                   epoch + 1,\n",
        "                   test_err[epoch],\n",
        "                   test_loss[epoch]))\n",
        "    print('Finished Testing')\n",
        "    end_time = time.time()\n",
        "    elapsed_time = end_time - start_time\n",
        "    print(\"Total time elapsed: {:.2f} seconds\".format(elapsed_time))\n",
        "    # # Write the train/test loss/err into CSV file for plotting later\n",
        "    # epochs = np.arange(1, num_epochs + 1)\n",
        "    "
      ]
    },
    {
      "cell_type": "markdown",
      "metadata": {
        "id": "QzNA5oup67JO"
      },
      "source": [
        "### Part (d) - 2 pt\n",
        "Report the test accuracy of your best model. You should only do this step once and prior to this step you should have only used the training and validation data."
      ]
    },
    {
      "cell_type": "code",
      "execution_count": null,
      "metadata": {
        "id": "2eJ7AbVl6-ax"
      },
      "outputs": [],
      "source": [
        ""
      ]
    },
    {
      "cell_type": "markdown",
      "metadata": {
        "id": "Wrem-iXV6_Bz"
      },
      "source": [
        "### Part 4. Transfer Learning [8 pt]\n",
        "For many image classification tasks, it is generally not a good idea to train a very large deep neural network\n",
        "model from scratch due to the enormous compute requirements and lack of sufficient amounts of training\n",
        "data.\n",
        "\n",
        "One of the better options is to try using an existing model that performs a similar task to the one you need\n",
        "to solve. This method of utilizing a pre-trained network for other similar tasks is broadly termed **Transfer\n",
        "Learning**. In this assignment, we will use Transfer Learning to extract features from the hand gesture\n",
        "images. Then, train a smaller network to use these features as input and classify the hand gestures.\n",
        "\n",
        "As you have learned from the CNN lecture, convolution layers extract various features from the images which\n",
        "get utilized by the fully connected layers for correct classification. AlexNet architecture played a pivotal\n",
        "role in establishing Deep Neural Nets as a go-to tool for image classification problems and we will use an\n",
        "ImageNet pre-trained AlexNet model to extract features in this assignment."
      ]
    },
    {
      "cell_type": "markdown",
      "metadata": {
        "id": "rWdQJz4Q7O2F"
      },
      "source": [
        "### Part (a) - 2 pt\n",
        "Here is the code to load the AlexNet network, with pretrained weights. When you first run the code, PyTorch\n",
        "will download the pretrained weights from the internet."
      ]
    },
    {
      "cell_type": "code",
      "execution_count": null,
      "metadata": {
        "id": "BJKcTW9C7TZk"
      },
      "outputs": [],
      "source": [
        "import torchvision.models\n",
        "alexnet = torchvision.models.alexnet(pretrained=True)"
      ]
    },
    {
      "cell_type": "markdown",
      "metadata": {
        "id": "NQ0GZYaP7VAR"
      },
      "source": [
        "The alexnet model is split up into two components: *alexnet.features* and *alexnet.classifier*. The\n",
        "first neural network component, *alexnet.features*, is used to compute convolutional features, which are\n",
        "taken as input in *alexnet.classifier*.\n",
        "\n",
        "The neural network alexnet.features expects an image tensor of shape Nx3x224x224 as input and it will\n",
        "output a tensor of shape Nx256x6x6 . (N = batch size).\n",
        "\n",
        "Compute the AlexNet features for each of your training, validation, and test data. Here is an example code\n",
        "snippet showing how you can compute the AlexNet features for some images (your actual code might be\n",
        "different):"
      ]
    },
    {
      "cell_type": "code",
      "execution_count": null,
      "metadata": {
        "id": "oX7SjVdB7XAE"
      },
      "outputs": [],
      "source": [
        "# img = ... a PyTorch tensor with shape [N,3,224,224] containing hand images ...\n",
        "features = alexnet.features(img)"
      ]
    },
    {
      "cell_type": "markdown",
      "metadata": {
        "id": "DYcjHg_A7cCM"
      },
      "source": [
        "**Save the computed features**. You will be using these features as input to your neural network in Part\n",
        "(b), and you do not want to re-compute the features every time. Instead, run *alexnet.features* once for\n",
        "each image, and save the result."
      ]
    },
    {
      "cell_type": "code",
      "execution_count": null,
      "metadata": {
        "id": "TBo1BpL373LX"
      },
      "outputs": [],
      "source": [
        ""
      ]
    },
    {
      "cell_type": "markdown",
      "metadata": {
        "id": "OFWvvhFN73qY"
      },
      "source": [
        "### Part (b) - 2 pt\n",
        "Build a convolutional neural network model that takes as input these AlexNet features, and makes a\n",
        "prediction. Your model should be a subclass of nn.Module.\n",
        "\n",
        "Explain your choice of neural network architecture: how many layers did you choose? What types of layers\n",
        "did you use: fully-connected or convolutional? What about other decisions like pooling layers, activation\n",
        "functions, number of channels / hidden units in each layer?\n",
        "\n",
        "Here is an example of how your model may be called:"
      ]
    },
    {
      "cell_type": "code",
      "execution_count": null,
      "metadata": {
        "id": "oVTuHUeV78-U"
      },
      "outputs": [],
      "source": [
        "# features = ... load precomputed alexnet.features(img) ...\n",
        "output = model(features)\n",
        "prob = F.softmax(output)"
      ]
    },
    {
      "cell_type": "markdown",
      "metadata": {
        "id": "wVAGuURu7-9q"
      },
      "source": [
        "### Part (c) - 2 pt\n",
        "Train your new network, including any hyperparameter tuning. Plot and submit the training curve of your\n",
        "best model only.\n",
        "\n",
        "Note: Depending on how you are caching (saving) your AlexNet features, PyTorch might still be tracking\n",
        "updates to the **AlexNet weights**, which we are not tuning. One workaround is to convert your AlexNet\n",
        "feature tensor into a numpy array, and then back into a PyTorch tensor."
      ]
    },
    {
      "cell_type": "code",
      "execution_count": null,
      "metadata": {
        "id": "JCmiH11x7-q1"
      },
      "outputs": [],
      "source": [
        "tensor = torch.from_numpy(tensor.detach().numpy())"
      ]
    },
    {
      "cell_type": "markdown",
      "metadata": {
        "id": "hQ2tvqJ68Mqb"
      },
      "source": [
        "### Part (d) - 2 pt\n",
        "Report the test accuracy of your best model. How does the test accuracy compare to Part 3(d) without transfer learning?"
      ]
    },
    {
      "cell_type": "code",
      "execution_count": null,
      "metadata": {
        "id": "yCp_kFSg8Q2T"
      },
      "outputs": [],
      "source": [
        ""
      ]
    },
    {
      "cell_type": "markdown",
      "metadata": {
        "id": "XrDPb0orGZYJ"
      },
      "source": [
        "### Part 5. Testing on New Data [10 pt]\n",
        "As a final step in testing we will be revisiting the sample images that you had collected and submitted with your lab. These sample images should be untouched and will be used to demonstrate how well your model works at identifying your hand guestures. \n",
        "\n"
      ]
    },
    {
      "cell_type": "markdown",
      "metadata": {
        "id": "ZirHEHwaMlXY"
      },
      "source": [
        "### Part (a) - 3 pt\n",
        "Load and process the hand gesture images you had collected so that they can easily be evaulated by your model."
      ]
    },
    {
      "cell_type": "code",
      "execution_count": null,
      "metadata": {
        "id": "44KekjRzMlXY"
      },
      "outputs": [],
      "source": [
        ""
      ]
    },
    {
      "cell_type": "markdown",
      "metadata": {
        "id": "kKzv7NImMlXZ"
      },
      "source": [
        "### Part (b) - 7 pt\n",
        "Using the best transfer learning model developed in Part 4. Report the test accuracy on your sample images and how it compares to the test accuracy obtained in Part 4(d)? How well did your model do for the different hand guestures? Provide an explanation for why you think your model performed the way it did?  \n",
        "\n",
        "This question will also be evaluated on the overal performance achieved."
      ]
    },
    {
      "cell_type": "code",
      "execution_count": null,
      "metadata": {
        "id": "vqdiZcEAMlXZ"
      },
      "outputs": [],
      "source": [
        ""
      ]
    },
    {
      "cell_type": "markdown",
      "metadata": {
        "id": "FYwI4RmFS2RB"
      },
      "source": [
        "### Saving to HTML\n",
        "Detailed instructions for saving to HTML can be found <a href=\"https://stackoverflow.com/questions/53460051/convert-ipynb-notebook-to-html-in-google-colab/64487858#64487858\">here</a>. Provided below are a summary of the instructions:\n",
        "\n",
        "(1) download your ipynb file by clicking on File->Download.ipynb\n",
        "\n",
        "(2) reupload your file to the temporary Google Colab storage (you can access the temporary storage from the tab to the left)\n",
        "\n",
        "(3) run the following:"
      ]
    },
    {
      "cell_type": "code",
      "execution_count": null,
      "metadata": {
        "id": "2TrsqdNgS5ex"
      },
      "outputs": [],
      "source": [
        "%%shell\n",
        "jupyter nbconvert --to html LAB_2_Hand_Gesture_Recognition.ipynb"
      ]
    },
    {
      "cell_type": "markdown",
      "metadata": {
        "id": "nuXhlFlPTY7F"
      },
      "source": [
        "(4) the html file will be available for download in the temporary Google Colab storage\n",
        "\n",
        "(5) review the html file and make sure all the results are visible before submitting your assignment to Quercus"
      ]
    }
  ],
  "metadata": {
    "colab": {
      "collapsed_sections": [],
      "name": "LAB_2_Hand_Gesture_Recognition.ipynb",
      "provenance": [],
      "machine_shape": "hm"
    },
    "kernelspec": {
      "display_name": "Python 3",
      "language": "python",
      "name": "python3"
    },
    "language_info": {
      "codemirror_mode": {
        "name": "ipython",
        "version": 3
      },
      "file_extension": ".py",
      "mimetype": "text/x-python",
      "name": "python",
      "nbconvert_exporter": "python",
      "pygments_lexer": "ipython3",
      "version": "3.7.4"
    },
    "accelerator": "GPU"
  },
  "nbformat": 4,
  "nbformat_minor": 0
}